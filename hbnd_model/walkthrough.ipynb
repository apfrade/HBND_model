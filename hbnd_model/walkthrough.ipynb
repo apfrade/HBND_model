{
 "cells": [
  {
   "cell_type": "markdown",
   "metadata": {},
   "source": [
    "## Hydrogen Bond Network Dimensionality - predictive model\n",
    "\n",
    "Hydrogen bond network dimensionality (HBND) describes how hydrogen-bond intermolecular interactions extend in a three-dimensional structure.  \n",
    "\n",
    "Intermolecular hydrogen interactions between molecules may lead to enclosed motifs (0D), chains (1D), sheets (2D) or expansion of the network in all directions (3D).  \n",
    "\n",
    "The best performing model was produced by an SVM RBF routine, which we provide here:   \n",
    "- **Input:** list of SMILES of the molecules to be predicted  \n",
    "- **Output:** a list of tuples (hbnd label, SMILES) \n",
    "- **Performance:** 59% accuracy (compared to a 25% random threshold)  \n",
    "\n",
    "This is a basic tour on how to use the hydrogen bond network dimensionality predictive model.  "
   ]
  },
  {
   "cell_type": "markdown",
   "metadata": {},
   "source": [
    "##### 1. Load some input examples"
   ]
  },
  {
   "cell_type": "code",
   "execution_count": 1,
   "metadata": {},
   "outputs": [
    {
     "name": "stdout",
     "output_type": "stream",
     "text": [
      "['CC(=O)NN1C=NN=C1N(N=Cc1c(Cl)cccc1Cl)C(C)=O'\n",
      " 'Cc1ccc(cc1)c1nc2ccc3ccccc3c2cc1CCO']\n"
     ]
    }
   ],
   "source": [
    "import pandas as pd\n",
    "smiles_list = pd.read_pickle('input_example')\n",
    "smiles_list = smiles_list.values\n",
    "\n",
    "print(smiles_list[:2])"
   ]
  },
  {
   "cell_type": "markdown",
   "metadata": {},
   "source": [
    "##### 2. Import and instantiate the model"
   ]
  },
  {
   "cell_type": "code",
   "execution_count": 2,
   "metadata": {},
   "outputs": [
    {
     "name": "stderr",
     "output_type": "stream",
     "text": [
      "RDKit WARNING: [14:32:18] Enabling RDKit 2019.09.3 jupyter extensions\n"
     ]
    }
   ],
   "source": [
    "from hbnd import PredictiveModel\n",
    "\n",
    "pm = PredictiveModel()"
   ]
  },
  {
   "cell_type": "markdown",
   "metadata": {},
   "source": [
    "##### 3. Predict the first 10 molecules of smiles_list"
   ]
  },
  {
   "cell_type": "code",
   "execution_count": 5,
   "metadata": {},
   "outputs": [],
   "source": [
    "test = smiles_list[:10]\n",
    "predictions = pm.hbnd_model(test)"
   ]
  },
  {
   "cell_type": "markdown",
   "metadata": {},
   "source": [
    "##### 4. Explore the result"
   ]
  },
  {
   "cell_type": "code",
   "execution_count": 6,
   "metadata": {},
   "outputs": [
    {
     "name": "stdout",
     "output_type": "stream",
     "text": [
      "('1D', 'CC(=O)NN1C=NN=C1N(N=Cc1c(Cl)cccc1Cl)C(C)=O')\n",
      "('0D', 'Cc1ccc(cc1)c1nc2ccc3ccccc3c2cc1CCO')\n",
      "('0D', 'ClC1=C(C(=O)Nc2ccccc12)c1ccccc1')\n",
      "('0D', 'O=C1Nc2ccccc2C2=C1CCc1ccccc21')\n",
      "('1D', 'OC1(CC2CCCC(CC(=O)c3ccccc3)N2C(=O)C1)c1ccccc1')\n",
      "('0D', 'CN1c2ccccc2C2=C1c1ccccc1NC2=O')\n",
      "('1D', 'OC1(CC2CCCC(CC(=O)c3ccccc3)N2C(=O)C1Cl)c1ccccc1')\n",
      "('2D', 'CC1=NN(C(N)=S)C(O)(C1)c1ccccc1')\n",
      "('3D', 'CC(=O)OCC1OC(=O)C(O)C1O')\n",
      "('0D', 'O=C1NC2=C(CCC2)C2=C1c1ccccc1O2')\n"
     ]
    }
   ],
   "source": [
    "for prediction in predictions: print(prediction)"
   ]
  },
  {
   "cell_type": "code",
   "execution_count": 3,
   "metadata": {},
   "outputs": [],
   "source": []
  }
 ],
 "metadata": {
  "kernelspec": {
   "display_name": "Python 3",
   "language": "python",
   "name": "python3"
  },
  "language_info": {
   "codemirror_mode": {
    "name": "ipython",
    "version": 3
   },
   "file_extension": ".py",
   "mimetype": "text/x-python",
   "name": "python",
   "nbconvert_exporter": "python",
   "pygments_lexer": "ipython3",
   "version": "3.7.4"
  }
 },
 "nbformat": 4,
 "nbformat_minor": 4
}
